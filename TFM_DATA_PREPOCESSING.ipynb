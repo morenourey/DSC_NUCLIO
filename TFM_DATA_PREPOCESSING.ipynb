{
  "nbformat": 4,
  "nbformat_minor": 0,
  "metadata": {
    "colab": {
      "provenance": [],
      "authorship_tag": "ABX9TyOHsK5lg68ZMASbxjsReoCA",
      "include_colab_link": true
    },
    "kernelspec": {
      "name": "python3",
      "display_name": "Python 3"
    },
    "language_info": {
      "name": "python"
    }
  },
  "cells": [
    {
      "cell_type": "markdown",
      "metadata": {
        "id": "view-in-github",
        "colab_type": "text"
      },
      "source": [
        "<a href=\"https://colab.research.google.com/github/morenourey/DSC_NUCLIO/blob/main/TFM_DATA_PREPOCESSING.ipynb\" target=\"_parent\"><img src=\"https://colab.research.google.com/assets/colab-badge.svg\" alt=\"Open In Colab\"/></a>"
      ]
    },
    {
      "cell_type": "code",
      "execution_count": 1,
      "metadata": {
        "colab": {
          "base_uri": "https://localhost:8080/"
        },
        "id": "7A39JsJ1s5FZ",
        "outputId": "f6189f73-513a-4156-c3dc-088e854a5488"
      },
      "outputs": [
        {
          "output_type": "stream",
          "name": "stdout",
          "text": [
            "Collecting catboost\n",
            "  Downloading catboost-1.2.5-cp310-cp310-manylinux2014_x86_64.whl (98.2 MB)\n",
            "\u001b[2K     \u001b[90m━━━━━━━━━━━━━━━━━━━━━━━━━━━━━━━━━━━━━━━━\u001b[0m \u001b[32m98.2/98.2 MB\u001b[0m \u001b[31m7.0 MB/s\u001b[0m eta \u001b[36m0:00:00\u001b[0m\n",
            "\u001b[?25hRequirement already satisfied: graphviz in /usr/local/lib/python3.10/dist-packages (from catboost) (0.20.3)\n",
            "Requirement already satisfied: matplotlib in /usr/local/lib/python3.10/dist-packages (from catboost) (3.7.1)\n",
            "Requirement already satisfied: numpy>=1.16.0 in /usr/local/lib/python3.10/dist-packages (from catboost) (1.25.2)\n",
            "Requirement already satisfied: pandas>=0.24 in /usr/local/lib/python3.10/dist-packages (from catboost) (2.0.3)\n",
            "Requirement already satisfied: scipy in /usr/local/lib/python3.10/dist-packages (from catboost) (1.11.4)\n",
            "Requirement already satisfied: plotly in /usr/local/lib/python3.10/dist-packages (from catboost) (5.15.0)\n",
            "Requirement already satisfied: six in /usr/local/lib/python3.10/dist-packages (from catboost) (1.16.0)\n",
            "Requirement already satisfied: python-dateutil>=2.8.2 in /usr/local/lib/python3.10/dist-packages (from pandas>=0.24->catboost) (2.8.2)\n",
            "Requirement already satisfied: pytz>=2020.1 in /usr/local/lib/python3.10/dist-packages (from pandas>=0.24->catboost) (2023.4)\n",
            "Requirement already satisfied: tzdata>=2022.1 in /usr/local/lib/python3.10/dist-packages (from pandas>=0.24->catboost) (2024.1)\n",
            "Requirement already satisfied: contourpy>=1.0.1 in /usr/local/lib/python3.10/dist-packages (from matplotlib->catboost) (1.2.1)\n",
            "Requirement already satisfied: cycler>=0.10 in /usr/local/lib/python3.10/dist-packages (from matplotlib->catboost) (0.12.1)\n",
            "Requirement already satisfied: fonttools>=4.22.0 in /usr/local/lib/python3.10/dist-packages (from matplotlib->catboost) (4.53.0)\n",
            "Requirement already satisfied: kiwisolver>=1.0.1 in /usr/local/lib/python3.10/dist-packages (from matplotlib->catboost) (1.4.5)\n",
            "Requirement already satisfied: packaging>=20.0 in /usr/local/lib/python3.10/dist-packages (from matplotlib->catboost) (24.0)\n",
            "Requirement already satisfied: pillow>=6.2.0 in /usr/local/lib/python3.10/dist-packages (from matplotlib->catboost) (9.4.0)\n",
            "Requirement already satisfied: pyparsing>=2.3.1 in /usr/local/lib/python3.10/dist-packages (from matplotlib->catboost) (3.1.2)\n",
            "Requirement already satisfied: tenacity>=6.2.0 in /usr/local/lib/python3.10/dist-packages (from plotly->catboost) (8.3.0)\n",
            "Installing collected packages: catboost\n",
            "Successfully installed catboost-1.2.5\n"
          ]
        }
      ],
      "source": [
        "pip install catboost"
      ]
    },
    {
      "cell_type": "code",
      "source": [
        "import pandas as pd\n",
        "import numpy as np\n",
        "import matplotlib.pyplot as plt\n",
        "import seaborn as sns\n",
        "\n",
        "pd.set_option('display.max_columns',None)\n",
        "\n",
        "import warnings\n",
        "warnings.filterwarnings(\"ignore\")"
      ],
      "metadata": {
        "id": "P1tNdsa0tEHX"
      },
      "execution_count": 2,
      "outputs": []
    },
    {
      "cell_type": "code",
      "source": [
        "# fechas\n",
        "from datetime import datetime\n",
        "\n",
        "# gráficos\n",
        "import seaborn as sns\n",
        "import matplotlib.pyplot as plt\n",
        "\n",
        "# preprocessing\n",
        "from sklearn.model_selection import train_test_split\n",
        "from sklearn.preprocessing import StandardScaler, Normalizer, MinMaxScaler\n",
        "from sklearn.preprocessing import PolynomialFeatures\n",
        "\n",
        "# algoritmos de clasificación\n",
        "from sklearn.svm import SVC\n",
        "from sklearn.linear_model import LogisticRegression, RidgeClassifier\n",
        "from sklearn.tree import DecisionTreeClassifier\n",
        "from sklearn.ensemble import RandomForestClassifier, GradientBoostingClassifier\n",
        "from xgboost import XGBClassifier\n",
        "from catboost import CatBoostClassifier\n",
        "\n",
        "# algoritmos de regresión\n",
        "from sklearn.linear_model import LinearRegression, Ridge, Lasso, ElasticNet, SGDRegressor\n",
        "from sklearn.tree import DecisionTreeRegressor\n",
        "from sklearn.ensemble import RandomForestRegressor, GradientBoostingRegressor\n",
        "from xgboost import XGBRegressor\n",
        "from catboost import CatBoostRegressor\n",
        "\n",
        "# métricas\n",
        "import sklearn.metrics as metrics\n",
        "\n",
        "# hiperparametrización\n",
        "from sklearn.model_selection import GridSearchCV\n",
        "\n",
        "# TensorFlow y tf.keras\n",
        "import tensorflow as tf\n",
        "from tensorflow import keras\n",
        "\n",
        "import xgboost as xgb\n",
        "\n",
        "from numpy import random\n",
        "random.seed(42)"
      ],
      "metadata": {
        "id": "NNYe4W6AtE15"
      },
      "execution_count": 3,
      "outputs": []
    },
    {
      "cell_type": "code",
      "source": [
        "from google.colab import drive\n",
        "drive.mount('/content/drive')"
      ],
      "metadata": {
        "colab": {
          "base_uri": "https://localhost:8080/"
        },
        "id": "-dJQkaACtMSd",
        "outputId": "9a347864-6c36-4a0e-8758-9aa423522fac"
      },
      "execution_count": 4,
      "outputs": [
        {
          "output_type": "stream",
          "name": "stdout",
          "text": [
            "Mounted at /content/drive\n"
          ]
        }
      ]
    },
    {
      "cell_type": "code",
      "source": [
        "df_product = pd.read_csv('/content/drive/MyDrive/NUCLIO/TFM_FINTEC/products_df.csv')\n",
        "\n",
        "df_sociodemo = pd.read_csv('/content/drive/MyDrive/NUCLIO/TFM_FINTEC/sociodemographic_df.csv')\n",
        "\n",
        "df_comercial = pd.read_csv('/content/drive/MyDrive/NUCLIO/TFM_FINTEC/commercial_activity_df.csv')"
      ],
      "metadata": {
        "id": "I-5aS4_BuxqO"
      },
      "execution_count": 5,
      "outputs": []
    },
    {
      "cell_type": "code",
      "source": [
        "df_product.info()"
      ],
      "metadata": {
        "colab": {
          "base_uri": "https://localhost:8080/"
        },
        "id": "yg7uhuzBvMST",
        "outputId": "9dd1017d-8b6a-4fdc-e5ce-bbea68bd8fa1"
      },
      "execution_count": 11,
      "outputs": [
        {
          "output_type": "stream",
          "name": "stdout",
          "text": [
            "<class 'pandas.core.frame.DataFrame'>\n",
            "RangeIndex: 5962924 entries, 0 to 5962923\n",
            "Data columns (total 18 columns):\n",
            " #   Column              Dtype  \n",
            "---  ------              -----  \n",
            " 0   Unnamed: 0          int64  \n",
            " 1   pk_cid              int64  \n",
            " 2   pk_partition        object \n",
            " 3   short_term_deposit  int64  \n",
            " 4   loans               int64  \n",
            " 5   mortgage            int64  \n",
            " 6   funds               int64  \n",
            " 7   securities          int64  \n",
            " 8   long_term_deposit   int64  \n",
            " 9   em_account_pp       int64  \n",
            " 10  credit_card         int64  \n",
            " 11  payroll             float64\n",
            " 12  pension_plan        float64\n",
            " 13  payroll_account     int64  \n",
            " 14  emc_account         int64  \n",
            " 15  debit_card          int64  \n",
            " 16  em_account_p        int64  \n",
            " 17  em_acount           int64  \n",
            "dtypes: float64(2), int64(15), object(1)\n",
            "memory usage: 818.9+ MB\n"
          ]
        }
      ]
    },
    {
      "cell_type": "code",
      "source": [
        "df_product.nunique()"
      ],
      "metadata": {
        "colab": {
          "base_uri": "https://localhost:8080/"
        },
        "id": "YpPvtSk2wyKi",
        "outputId": "7a1ee644-3865-4a58-b107-46bc83dee1b9"
      },
      "execution_count": 15,
      "outputs": [
        {
          "output_type": "execute_result",
          "data": {
            "text/plain": [
              "Unnamed: 0            5962924\n",
              "pk_cid                 456373\n",
              "pk_partition               17\n",
              "short_term_deposit          2\n",
              "loans                       2\n",
              "mortgage                    2\n",
              "funds                       2\n",
              "securities                  2\n",
              "long_term_deposit           2\n",
              "em_account_pp               1\n",
              "credit_card                 2\n",
              "payroll                     2\n",
              "pension_plan                2\n",
              "payroll_account             2\n",
              "emc_account                 2\n",
              "debit_card                  2\n",
              "em_account_p                2\n",
              "em_acount                   2\n",
              "dtype: int64"
            ]
          },
          "metadata": {},
          "execution_count": 15
        }
      ]
    },
    {
      "cell_type": "code",
      "source": [
        "df_product.isnull().sum()"
      ],
      "metadata": {
        "colab": {
          "base_uri": "https://localhost:8080/"
        },
        "id": "4Fz1VhaAxfSV",
        "outputId": "173a632b-bbb2-442d-c360-30619e33ea0a"
      },
      "execution_count": 16,
      "outputs": [
        {
          "output_type": "execute_result",
          "data": {
            "text/plain": [
              "Unnamed: 0             0\n",
              "pk_cid                 0\n",
              "pk_partition           0\n",
              "short_term_deposit     0\n",
              "loans                  0\n",
              "mortgage               0\n",
              "funds                  0\n",
              "securities             0\n",
              "long_term_deposit      0\n",
              "em_account_pp          0\n",
              "credit_card            0\n",
              "payroll               61\n",
              "pension_plan          61\n",
              "payroll_account        0\n",
              "emc_account            0\n",
              "debit_card             0\n",
              "em_account_p           0\n",
              "em_acount              0\n",
              "dtype: int64"
            ]
          },
          "metadata": {},
          "execution_count": 16
        }
      ]
    },
    {
      "cell_type": "code",
      "source": [
        "df_sociodemo.info()"
      ],
      "metadata": {
        "colab": {
          "base_uri": "https://localhost:8080/"
        },
        "id": "G6d7jndMwk9p",
        "outputId": "c0ac01e0-53fb-4e17-833f-6ff53ad9a2ed"
      },
      "execution_count": 12,
      "outputs": [
        {
          "output_type": "stream",
          "name": "stdout",
          "text": [
            "<class 'pandas.core.frame.DataFrame'>\n",
            "RangeIndex: 5962924 entries, 0 to 5962923\n",
            "Data columns (total 9 columns):\n",
            " #   Column        Dtype  \n",
            "---  ------        -----  \n",
            " 0   Unnamed: 0    int64  \n",
            " 1   pk_cid        int64  \n",
            " 2   pk_partition  object \n",
            " 3   country_id    object \n",
            " 4   region_code   float64\n",
            " 5   gender        object \n",
            " 6   age           int64  \n",
            " 7   deceased      object \n",
            " 8   salary        float64\n",
            "dtypes: float64(2), int64(3), object(4)\n",
            "memory usage: 409.4+ MB\n"
          ]
        }
      ]
    },
    {
      "cell_type": "code",
      "source": [
        "df_sociodemo.nunique()"
      ],
      "metadata": {
        "colab": {
          "base_uri": "https://localhost:8080/"
        },
        "id": "WdofA7TextNY",
        "outputId": "31322d1e-5336-40a0-dc72-c969eb8b6ae8"
      },
      "execution_count": 17,
      "outputs": [
        {
          "output_type": "execute_result",
          "data": {
            "text/plain": [
              "Unnamed: 0      5962924\n",
              "pk_cid           456373\n",
              "pk_partition         17\n",
              "country_id           41\n",
              "region_code          52\n",
              "gender                2\n",
              "age                 104\n",
              "deceased              2\n",
              "salary           258629\n",
              "dtype: int64"
            ]
          },
          "metadata": {},
          "execution_count": 17
        }
      ]
    },
    {
      "cell_type": "code",
      "source": [
        "df_sociodemo.isnull().sum()"
      ],
      "metadata": {
        "colab": {
          "base_uri": "https://localhost:8080/"
        },
        "id": "xd4QiUXhxw2q",
        "outputId": "94f87d48-c2cf-4d2d-ba52-8a3ab48da092"
      },
      "execution_count": 18,
      "outputs": [
        {
          "output_type": "execute_result",
          "data": {
            "text/plain": [
              "Unnamed: 0            0\n",
              "pk_cid                0\n",
              "pk_partition          0\n",
              "country_id            0\n",
              "region_code        2264\n",
              "gender               25\n",
              "age                   0\n",
              "deceased              0\n",
              "salary          1512103\n",
              "dtype: int64"
            ]
          },
          "metadata": {},
          "execution_count": 18
        }
      ]
    },
    {
      "cell_type": "code",
      "source": [
        "df_comercial.info()"
      ],
      "metadata": {
        "colab": {
          "base_uri": "https://localhost:8080/"
        },
        "id": "saMgSWzqwqkd",
        "outputId": "f3490bc5-2f81-487f-f0c9-21b69cacdf5f"
      },
      "execution_count": 13,
      "outputs": [
        {
          "output_type": "stream",
          "name": "stdout",
          "text": [
            "<class 'pandas.core.frame.DataFrame'>\n",
            "RangeIndex: 5962924 entries, 0 to 5962923\n",
            "Data columns (total 7 columns):\n",
            " #   Column           Dtype  \n",
            "---  ------           -----  \n",
            " 0   Unnamed: 0       int64  \n",
            " 1   pk_cid           int64  \n",
            " 2   pk_partition     object \n",
            " 3   entry_date       object \n",
            " 4   entry_channel    object \n",
            " 5   active_customer  float64\n",
            " 6   segment          object \n",
            "dtypes: float64(1), int64(2), object(4)\n",
            "memory usage: 318.5+ MB\n"
          ]
        }
      ]
    },
    {
      "cell_type": "code",
      "source": [
        "df_comercial.nunique()"
      ],
      "metadata": {
        "colab": {
          "base_uri": "https://localhost:8080/"
        },
        "id": "fRxz5lDKx05T",
        "outputId": "ee69250b-5a94-4faf-f8d3-12f60e230752"
      },
      "execution_count": 19,
      "outputs": [
        {
          "output_type": "execute_result",
          "data": {
            "text/plain": [
              "Unnamed: 0         5962924\n",
              "pk_cid              456373\n",
              "pk_partition            17\n",
              "entry_date            1499\n",
              "entry_channel           68\n",
              "active_customer          2\n",
              "segment                  3\n",
              "dtype: int64"
            ]
          },
          "metadata": {},
          "execution_count": 19
        }
      ]
    },
    {
      "cell_type": "code",
      "source": [
        "df_comercial.isnull().sum()"
      ],
      "metadata": {
        "colab": {
          "base_uri": "https://localhost:8080/"
        },
        "id": "XhSoy6WCx50y",
        "outputId": "a61fe166-fe8f-406c-e827-b6abb68dfe56"
      },
      "execution_count": 20,
      "outputs": [
        {
          "output_type": "execute_result",
          "data": {
            "text/plain": [
              "Unnamed: 0              0\n",
              "pk_cid                  0\n",
              "pk_partition            0\n",
              "entry_date              0\n",
              "entry_channel      133033\n",
              "active_customer         0\n",
              "segment            133944\n",
              "dtype: int64"
            ]
          },
          "metadata": {},
          "execution_count": 20
        }
      ]
    },
    {
      "cell_type": "code",
      "source": [
        "df_comercial.value_counts(normalize=True)*100"
      ],
      "metadata": {
        "colab": {
          "base_uri": "https://localhost:8080/"
        },
        "id": "jB8NAyYrx9y3",
        "outputId": "d883ff6f-c5da-4191-cbd0-680942714936"
      },
      "execution_count": 21,
      "outputs": [
        {
          "output_type": "execute_result",
          "data": {
            "text/plain": [
              "Unnamed: 0  pk_cid   pk_partition  entry_date  entry_channel  active_customer  segment           \n",
              "0           1375586  2018-01-28    2018-01-12  KHL            1.0              02 - PARTICULARES     0.000017\n",
              "9368210     1361521  2019-01-28    2017-11-26  KHF            1.0              03 - UNIVERSITARIO    0.000017\n",
              "9368186     1361433  2019-01-28    2017-11-26  KHE            1.0              03 - UNIVERSITARIO    0.000017\n",
              "9368185     1361432  2019-01-28    2017-11-26  KHE            0.0              03 - UNIVERSITARIO    0.000017\n",
              "9368184     1361431  2019-01-28    2017-11-26  KHK            0.0              02 - PARTICULARES     0.000017\n",
              "                                                                                                       ...   \n",
              "5060674     1359055  2018-08-28    2017-11-21  KHE            0.0              03 - UNIVERSITARIO    0.000017\n",
              "5060673     1359056  2018-08-28    2017-11-21  KHE            0.0              03 - UNIVERSITARIO    0.000017\n",
              "5060672     1359165  2018-08-28    2017-11-21  KHE            1.0              03 - UNIVERSITARIO    0.000017\n",
              "5060671     1359167  2018-08-28    2017-11-21  KHE            0.0              03 - UNIVERSITARIO    0.000017\n",
              "13647307    1166789  2019-05-28    2016-08-14  KHE            0.0              03 - UNIVERSITARIO    0.000017\n",
              "Name: proportion, Length: 5828370, dtype: float64"
            ]
          },
          "metadata": {},
          "execution_count": 21
        }
      ]
    }
  ]
}